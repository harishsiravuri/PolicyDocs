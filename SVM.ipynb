{
 "cells": [
  {
   "cell_type": "code",
   "execution_count": 1,
   "metadata": {
    "collapsed": false
   },
   "outputs": [
    {
     "name": "stdout",
     "output_type": "stream",
     "text": [
      "   altmetric_id                        DOI                  ISSN  mendeley  \\\n",
      "0       3960260  10.1192/apt.bp.114.013490            2056-4686;         3   \n",
      "1       2295090          10.1111/ans.12536  1445-2197;1445-1433;        13   \n",
      "2       6616300                        NaN  0008-5472;1538-7445;         3   \n",
      "\n",
      "   citeulike  connotea  twitter  reddit  facebook  googleplus  blogs  news  \\\n",
      "0          0         0        1       0         1           0      0     0   \n",
      "1          0         0        1       0         0           0      0     0   \n",
      "2          0         0        1       0         0           0      0     0   \n",
      "\n",
      "   video  wikipedia  q&a  pinterest  weibo  peer_reviews  policy  \n",
      "0      0          0    0          0      0             0       0  \n",
      "1      0          0    0          0      0             0       0  \n",
      "2      0          0    0          0      0             0       0  \n",
      "        altmetric_id                           DOI                 ISSN  \\\n",
      "178674       2563446  10.1016/j.vetpar.2009.01.013             03044017   \n",
      "178675       2563220        10.1098/rsbl.2005.0390                  NaN   \n",
      "178676       2565950      10.1136/jech.2010.127761  0143-005X;1470-2738   \n",
      "\n",
      "        mendeley  citeulike  connotea  twitter  reddit  facebook  googleplus  \\\n",
      "178674        11          0         0        0       0         0           0   \n",
      "178675        26          0         0        0       0         0           0   \n",
      "178676         3          0         0        0       0         0           0   \n",
      "\n",
      "        blogs  news  video  wikipedia  q&a  pinterest  weibo  peer_reviews  \\\n",
      "178674      1     0      0          0    0          0      1             2   \n",
      "178675      1     0      0          0    0          0      1             2   \n",
      "178676      1     0      0          0    0          0      1             2   \n",
      "\n",
      "        policy  \n",
      "178674       2  \n",
      "178675       1  \n",
      "178676       1  \n"
     ]
    }
   ],
   "source": [
    "import pandas as pd\n",
    "from sklearn import svm\n",
    "from sklearn import metrics\n",
    "\n",
    "raw_data=pd.read_csv(\"C:\\\\Users\\\\haris\\\\Desktop\\\\CombinedRandomDataCleaned3.csv\")\n",
    "print (raw_data.head(3))\n",
    "print(raw_data.tail(3))"
   ]
  },
  {
   "cell_type": "code",
   "execution_count": 2,
   "metadata": {
    "collapsed": true
   },
   "outputs": [],
   "source": [
    "raw_data = raw_data.sample(frac=1).reset_index(drop=True)\n",
    "train = raw_data.sample(frac=0.8, random_state=1)\n",
    "test = raw_data.loc[~raw_data.index.isin(train.index)]\n",
    "\n",
    "data_columns=[\"mendeley\", \"citeulike\", \"connotea\", \"twitter\", \"reddit\", \"facebook\", \"googleplus\", \"blogs\", \"news\", \"video\", \"wikipedia\", \"q&a\", \"pinterest\", \"weibo\", \"peer_reviews\"]\n",
    "train_data_array=train.as_matrix(columns=data_columns)\n",
    "train_class_array= train['policy'].values\n",
    "test_data_array=test.as_matrix(columns=data_columns)\n",
    "test_class_array= test['policy'].values\n"
   ]
  },
  {
   "cell_type": "code",
   "execution_count": 3,
   "metadata": {
    "collapsed": true
   },
   "outputs": [],
   "source": [
    "clf = svm.SVC()"
   ]
  },
  {
   "cell_type": "code",
   "execution_count": 4,
   "metadata": {
    "collapsed": false
   },
   "outputs": [
    {
     "data": {
      "text/plain": [
       "SVC(C=1.0, cache_size=200, class_weight=None, coef0=0.0,\n",
       "  decision_function_shape=None, degree=3, gamma='auto', kernel='rbf',\n",
       "  max_iter=-1, probability=False, random_state=None, shrinking=True,\n",
       "  tol=0.001, verbose=False)"
      ]
     },
     "execution_count": 4,
     "metadata": {},
     "output_type": "execute_result"
    }
   ],
   "source": [
    "clf.fit(train_data_array, train_class_array)"
   ]
  },
  {
   "cell_type": "code",
   "execution_count": 5,
   "metadata": {
    "collapsed": false
   },
   "outputs": [
    {
     "name": "stdout",
     "output_type": "stream",
     "text": [
      "accuracy:   0.868\n",
      "Precision:   0.820\n",
      "Recall:   0.868\n",
      "F-measure:   0.824\n"
     ]
    },
    {
     "name": "stderr",
     "output_type": "stream",
     "text": [
      "C:\\Program Files\\Anaconda3\\lib\\site-packages\\sklearn\\metrics\\classification.py:1203: DeprecationWarning: The default `weighted` averaging is deprecated, and from version 0.18, use of precision, recall or F-score with multiclass or multilabel data or pos_label=None will result in an exception. Please set an explicit value for `average`, one of (None, 'micro', 'macro', 'weighted', 'samples'). In cross validation use, for instance, scoring=\"f1_weighted\" instead of scoring=\"f1\".\n",
      "  sample_weight=sample_weight)\n",
      "C:\\Program Files\\Anaconda3\\lib\\site-packages\\sklearn\\metrics\\classification.py:1074: UndefinedMetricWarning: Precision is ill-defined and being set to 0.0 in labels with no predicted samples.\n",
      "  'precision', 'predicted', average, warn_for)\n",
      "C:\\Program Files\\Anaconda3\\lib\\site-packages\\sklearn\\metrics\\classification.py:1304: DeprecationWarning: The default `weighted` averaging is deprecated, and from version 0.18, use of precision, recall or F-score with multiclass or multilabel data or pos_label=None will result in an exception. Please set an explicit value for `average`, one of (None, 'micro', 'macro', 'weighted', 'samples'). In cross validation use, for instance, scoring=\"f1_weighted\" instead of scoring=\"f1\".\n",
      "  sample_weight=sample_weight)\n",
      "C:\\Program Files\\Anaconda3\\lib\\site-packages\\sklearn\\metrics\\classification.py:756: DeprecationWarning: The default `weighted` averaging is deprecated, and from version 0.18, use of precision, recall or F-score with multiclass or multilabel data or pos_label=None will result in an exception. Please set an explicit value for `average`, one of (None, 'micro', 'macro', 'weighted', 'samples'). In cross validation use, for instance, scoring=\"f1_weighted\" instead of scoring=\"f1\".\n",
      "  sample_weight=sample_weight)\n",
      "C:\\Program Files\\Anaconda3\\lib\\site-packages\\sklearn\\metrics\\classification.py:1074: UndefinedMetricWarning: F-score is ill-defined and being set to 0.0 in labels with no predicted samples.\n",
      "  'precision', 'predicted', average, warn_for)\n"
     ]
    }
   ],
   "source": [
    "pred = clf.predict(test_data_array)\n",
    "score = metrics.accuracy_score(test_class_array, pred)\n",
    "print(\"accuracy:   %0.3f\" % score)\n",
    "\n",
    "score = metrics.precision_score(test_class_array, pred)\n",
    "print(\"Precision:   %0.3f\" % score)\n",
    "\n",
    "score = metrics.recall_score(test_class_array, pred)\n",
    "print(\"Recall:   %0.3f\" % score)\n",
    "\n",
    "score = metrics.f1_score(test_class_array, pred)\n",
    "print(\"F-measure:   %0.3f\" % score)"
   ]
  },
  {
   "cell_type": "code",
   "execution_count": null,
   "metadata": {
    "collapsed": true
   },
   "outputs": [],
   "source": []
  }
 ],
 "metadata": {
  "anaconda-cloud": {},
  "kernelspec": {
   "display_name": "Python [default]",
   "language": "python",
   "name": "python3"
  },
  "language_info": {
   "codemirror_mode": {
    "name": "ipython",
    "version": 3
   },
   "file_extension": ".py",
   "mimetype": "text/x-python",
   "name": "python",
   "nbconvert_exporter": "python",
   "pygments_lexer": "ipython3",
   "version": "3.5.2"
  }
 },
 "nbformat": 4,
 "nbformat_minor": 1
}
